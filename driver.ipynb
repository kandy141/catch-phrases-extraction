{
 "cells": [
  {
   "cell_type": "code",
   "execution_count": 22,
   "metadata": {},
   "outputs": [],
   "source": [
    "import numpy as np\n",
    "import tensorflow as tf\n",
    "import tensorflow_hub as hub\n",
    "import pandas as pd\n",
    "import time\n"
   ]
  },
  {
   "cell_type": "code",
   "execution_count": 23,
   "metadata": {},
   "outputs": [],
   "source": [
    "module_url = \"https://tfhub.dev/google/universal-sentence-encoder/2\" #@param [\"https://tfhub.dev/google/universal-sentence-encoder/2\", \"https://tfhub.dev/google/universal-sentence-encoder-large/3\"]"
   ]
  },
  {
   "cell_type": "code",
   "execution_count": 25,
   "metadata": {},
   "outputs": [],
   "source": [
    "def get_word_count(string):\n",
    "    tokens = string.split()\n",
    "    n_tokens = len(tokens)\n",
    "    return n_tokens  \n",
    "\n",
    "def ReLU(x):\n",
    "    return abs(x) * (x > 0)"
   ]
  },
  {
   "cell_type": "code",
   "execution_count": 26,
   "metadata": {},
   "outputs": [],
   "source": [
    "def get_features_row(file_id,Id,text):\n",
    "    text=text.lower();\n",
    "    window_size = 2\n",
    "    word_count=get_word_count(text);\n",
    "    words=text.split()\n",
    "    input_filter=np.random.rand(300,200*(2*window_size+1));\n",
    "    sentence_vector=np.zeros((300,1));\n",
    "    count=0;\n",
    "    rows_list=[]\n",
    "    if word_count>2*window_size+1:\n",
    "        for i in range(window_size,word_count-window_size):\n",
    "            \n",
    "            inputs=words[i-window_size:i+window_size+1];\n",
    "            inputs=lookup_indexes(inputs)\n",
    "            #print(inputs);\n",
    "            #input_features=ReLU(get_features(inputs));\n",
    "            #input_features=np.reshape(input_features,(200*(2*window_size+1),1));\n",
    "            #input_features=ReLU(np.matmul(input_filter,input_features));\n",
    "            #print(np.shape(input_features));\n",
    "            rows_list.append({\"file_id\":file_id,\"Id\":Id,\"words\":inputs})\n",
    "            #print(file_id,Id,inputs);\n",
    "            #sentence_vector=np.add(sentence_vector,input_features);\n",
    "            #count=count+1;\n",
    "        #sentence_vector= np.true_divide(sentence_vector, 4);\n",
    "        #print(np.shape(sentence_vector));\n",
    "    #print(rows_list)\n",
    "    child_dataframe=pd.DataFrame(rows_list);\n",
    "    #print(child_dataframe.head(5))\n",
    "    return child_dataframe"
   ]
  },
  {
   "cell_type": "code",
   "execution_count": 34,
   "metadata": {},
   "outputs": [
    {
     "name": "stdout",
     "output_type": "stream",
     "text": [
      "(1795, 5)\n",
      "('total time:', 6.107259035110474)\n",
      "   Id      file_id                     words\n",
      "0  s0  08_1056.xml  [176, 13, 759, 396, 584]\n",
      "1  s0  08_1056.xml    [13, 759, 396, 584, 0]\n",
      "2  s0  08_1056.xml  [759, 396, 584, 0, 3250]\n",
      "3  s0  08_1056.xml  [396, 584, 0, 3250, 845]\n",
      "4  s0  08_1056.xml   [584, 0, 3250, 845, 21]\n"
     ]
    }
   ],
   "source": [
    "def lookup_indexes(sentences):\n",
    "    \n",
    "    sentence_indexes=[];\n",
    "    \n",
    "    \n",
    "    for word in sentences:\n",
    "        if word in word_index:\n",
    "            sentence_indexes.append(word_index[word]);\n",
    "        else:\n",
    "            #print(\"unknown word\",word)\n",
    "            sentence_indexes.append(word_index['unk']);\n",
    "        \n",
    "    return sentence_indexes;\n",
    "\n",
    "full_data=pd.read_csv('./testdata.csv');\n",
    "print(np.shape(full_data))\n",
    "\n",
    "catch_df=full_data[full_data['Id'].str.startswith(('c'))]\n",
    "sent_df=full_data[full_data['Id'].str.startswith(('s'))]\n",
    "\n",
    "start=time.time();\n",
    "words_dataframes=[];\n",
    "\n",
    "for index, row in sent_df.iterrows():\n",
    "    words_dataframes.append(get_features_row(row['file_id'],row['Id'],row['text']))\n",
    "end=time.time();\n",
    "\n",
    "words_df=pd.concat(words_dataframes,ignore_index=True)\n",
    "\n",
    "print(\"total time:\",end-start);\n",
    "\n",
    "print(words_df.head())\n"
   ]
  },
  {
   "cell_type": "code",
   "execution_count": null,
   "metadata": {},
   "outputs": [],
   "source": [
    "#\n",
    "def read_data(file_name):\n",
    "    with open(file_name, 'r') as f:\n",
    "        word_vocab = set()  # not using list to avoid duplicate entry\n",
    "        word_count = {};\n",
    "        word_index={};\n",
    "\n",
    "        word2vector = {}\n",
    "        count=0;\n",
    "        for line in f:\n",
    "            line_ = line.strip()  # Remove white space\n",
    "            words_Vec = line_.split()\n",
    "            word_vocab.add(words_Vec[0])\n",
    "            word_index[words_Vec[0]]=count;\n",
    "            count=count+1;\n",
    "\n",
    "            word2vector[words_Vec[0]] = np.array(words_Vec[1:], dtype=float)\n",
    "    print(\"Total Words in DataSet:\", len(word_vocab))\n",
    "    return word_vocab, word2vector, word_index\n"
   ]
  },
  {
   "cell_type": "code",
   "execution_count": 30,
   "metadata": {},
   "outputs": [],
   "source": [
    "def load_embeddings(filename):\n",
    "    dvocab, w2v,word_index  = read_data(filename);\n",
    "    return w2v,word_index"
   ]
  },
  {
   "cell_type": "code",
   "execution_count": 32,
   "metadata": {},
   "outputs": [
    {
     "name": "stdout",
     "output_type": "stream",
     "text": [
      "('Total Words in DataSet:', 400000)\n",
      "Loaded embeddings\n",
      "reading data completed\n",
      "201534\n"
     ]
    }
   ],
   "source": [
    "embedding_filename = \"glove_6B_200d.txt\"\n",
    "embedding_array,word_index = load_embeddings(embedding_filename)\n",
    "print(\"Loaded embeddings\")\n",
    "\n",
    "words_data=pd.read_csv(\"words_data.csv\");\n",
    "catchphrases_data=pd.read_csv(\"catchwords_data.csv\")\n",
    "print(\"reading data completed\");\n",
    "print(word_index['unk'])"
   ]
  },
  {
   "cell_type": "code",
   "execution_count": 48,
   "metadata": {},
   "outputs": [
    {
     "name": "stdout",
     "output_type": "stream",
     "text": [
      "18815\n"
     ]
    }
   ],
   "source": [
    "print word_index['176']"
   ]
  },
  {
   "cell_type": "code",
   "execution_count": 15,
   "metadata": {},
   "outputs": [
    {
     "name": "stdout",
     "output_type": "stream",
     "text": [
      "INFO:tensorflow:Saver not created because there are no variables in the graph to restore\n"
     ]
    },
    {
     "data": {
      "text/plain": [
       "array([[ 0.00822406,  0.0158696 ,  0.01852092, ..., -0.04450814,\n",
       "        -0.02824019, -0.06522587],\n",
       "       [ 0.08001935,  0.02381717, -0.01781278, ...,  0.03001026,\n",
       "        -0.07005218, -0.0089276 ]], dtype=float32)"
      ]
     },
     "execution_count": 15,
     "metadata": {},
     "output_type": "execute_result"
    }
   ],
   "source": [
    "def sent2Vec(sentences):\n",
    "    embed = hub.Module(module_url)\n",
    "    with tf.Session() as session:\n",
    "        session.run([tf.global_variables_initializer(), tf.tables_initializer()])\n",
    "        sentenceEmbeddings = session.run(embed(sentences))\n",
    "        \n",
    "        return sentenceEmbeddings\n",
    "        #return \n",
    "\n",
    "sent2Vec(['UWA was ordered to pay the costs of Dr Gra','Sirtex succeeded in its cross-claim against Dr'])"
   ]
  },
  {
   "cell_type": "code",
   "execution_count": 78,
   "metadata": {},
   "outputs": [
    {
     "name": "stdout",
     "output_type": "stream",
     "text": [
      "> <ipython-input-78-97fcaa9313b1>(27)driver()\n",
      "-> wordEmbeddings = tf.matmul(tf.cast(word_embed,tf.float32), embedding_init)\n",
      "(Pdb) tf.shape(word_embed)\n",
      "<tf.Tensor 'Shape_1:0' shape=(2,) dtype=int32>\n",
      "(Pdb) cc\n",
      "*** NameError: name 'cc' is not defined\n",
      "(Pdb) c\n",
      "Tensor(\"MatMul_3:0\", shape=(5, 200), dtype=float32)\n"
     ]
    }
   ],
   "source": [
    "def driver(sentenceIndices, docVector, wordDf):\n",
    "    #for each document\n",
    "    #sentenceDf [s1_id,s2_id,s3_id.....]\n",
    "    #docVector [1x200]\n",
    "    #wordDf [(sentence_id,doc_id, [word-2,word-1,word,word+1,word+2])]\n",
    "    \n",
    "    sentenceIndicesTf = tf.convert_to_tensor(sentenceIndices)\n",
    "    sentEmbeddings = tf.nn.embedding_lookup(sent2Vec, sentenceIndicesTf)\n",
    "    \n",
    "    fWlist = []\n",
    "    for i in range(len(wordDf)):\n",
    "        wordIndices = wordDf.loc[i]['words']\n",
    "        \n",
    "        eachEmbeddings = [embedding_array[word_index.keys()[word_index.values().index(x)]] for x in wordIndices]\n",
    "        fWlist.append(np.hstack(eachEmbeddings))\n",
    "    \n",
    "    word_embed = np.array(fWlist)\n",
    "    \n",
    "    word_embed = tf.convert_to_tensor(word_embed)\n",
    "            \n",
    "    W = tf.Variable(tf.constant(0.0, shape=[1000, 200 ]),trainable=True, name=\"W\")\n",
    "    embedding_placeholder = tf.placeholder(tf.float32, [1000, 200])\n",
    "    embedding_init = W.assign(embedding_placeholder)\n",
    "    \n",
    "    #(n*1000)*(1000*200) -> (n*200)\n",
    "    import pdb; pdb.set_trace()\n",
    "    wordEmbeddings = tf.matmul(tf.cast(word_embed,tf.float32), embedding_init)\n",
    "    \n",
    "    \n",
    "    docPlaceHolder = tf.placeholder(tf.int32, shape=[None,200])\n",
    "    docEnbeddings = tf.nn.embedding_lookup(docVector, docPlaceHolder)\n",
    "\n",
    "    \n",
    "driver([0,1],\"1.xml\",words_df.head())\n",
    "\n",
    "    "
   ]
  },
  {
   "cell_type": "code",
   "execution_count": null,
   "metadata": {},
   "outputs": [],
   "source": []
  }
 ],
 "metadata": {
  "kernelspec": {
   "display_name": "Python 2",
   "language": "python",
   "name": "python2"
  },
  "language_info": {
   "codemirror_mode": {
    "name": "ipython",
    "version": 2
   },
   "file_extension": ".py",
   "mimetype": "text/x-python",
   "name": "python",
   "nbconvert_exporter": "python",
   "pygments_lexer": "ipython2",
   "version": "2.7.12"
  }
 },
 "nbformat": 4,
 "nbformat_minor": 2
}
